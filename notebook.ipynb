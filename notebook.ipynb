{
 "cells": [
  {
   "cell_type": "markdown",
   "metadata": {},
   "source": [
    "# Face Recognition Project\n",
    "![Face Recognition](data:image/jpeg;base64,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)"
   ]
  },
  {
   "cell_type": "markdown",
   "metadata": {},
   "source": [
    "## Introduction\n",
    "Faceial recognition is a way of identifying or confirming an individual's identity using their face. It can be used to identify people in photos, videos, or in real-time.Facial recognition is in the category of biometric security.\n",
    "\n",
    "Many people are familiar with face recognition technology through the FaceID used to unlock the phones. Beyond this, it works by matching the faces of people walking past the camera to images of people in a watch list.This procedure tends to operate as follow:\n",
    "\n",
    "1. Face detection\n",
    "2. Face analysis\n",
    "3. Converting the iamge to data\n",
    "4. Finding match\n",
    "\n",
    "There are many purpose to the face recognition nowadays all around the globe such as:\n",
    "+ Unlocking phones\n",
    "+ Law enforcement\n",
    "+ Airports and border control\n",
    "+ Finding missing persons\n",
    "+ Reduce retail crime\n",
    "+ Improve retail experiences\n",
    "+ Banking\n",
    "+ **Tracking student or worker attendance** etc.\n"
   ]
  },
  {
   "cell_type": "markdown",
   "metadata": {},
   "source": [
    "## Phase 1: Face Detection and Data Gathering\n",
    "We use Opencv package to run live camera. OpenCV was designed for computational efficiency and with a strong focus on real-time applications. So, it’s perfect for real-time face recognition using a camera.\n",
    "\n",
    "The basic task here is creating a face detecting. The most common way to detect a face, is using \"Haar Cascade Classifier\". It is an effective object detection method proposed by Paul Viola and Michael Jones in their paper, “Rapid Object Detection using a Boosted Cascade of Simple Features” in 2001. \n",
    "\n",
    "We don't create our own classifier because opencv already comes with detector and trainer. We want to detect only human face, so we use \"haarcascade_frontalface_default.xml\" from the \"haarcascades\" directory in opencv project on Github."
   ]
  },
  {
   "cell_type": "code",
   "execution_count": 1,
   "metadata": {},
   "outputs": [],
   "source": [
    "# import all necessarily Packages for the entire project\n",
    "import cv2\n",
    "import os\n",
    "import csv\n",
    "import numpy as np\n",
    "from PIL import Image\n",
    "from datetime import datetime\n",
    "import pandas as pd"
   ]
  },
  {
   "cell_type": "markdown",
   "metadata": {},
   "source": [
    "### Capturing face from the camera and store in dataset folder"
   ]
  },
  {
   "cell_type": "code",
   "execution_count": 19,
   "metadata": {},
   "outputs": [
    {
     "name": "stdout",
     "output_type": "stream",
     "text": [
      "\n",
      "[INFO] Initializing face capture....\n",
      "\n",
      " [INFO] 101 faces of user id \"1\" have recorded...\n"
     ]
    }
   ],
   "source": [
    "cam = cv2.VideoCapture(4)\n",
    "cam.set(3, 640) # set video width\n",
    "cam.set(4, 480) # set video height\n",
    "\n",
    "face_detector = cv2.CascadeClassifier('haarcascade_frontalface_default.xml')\n",
    "# for each person, enter a numeric face id\n",
    "face_id = input('\\nEnter user id: ')\n",
    "\n",
    "print('\\n[INFO] Initializing face capture....')\n",
    "\n",
    "# Sample individual face count \n",
    "count = 0\n",
    "\n",
    "while (True):\n",
    "    ret, img = cam.read()\n",
    "    gray = cv2.cvtColor(img, cv2.COLOR_BGR2GRAY)\n",
    "    faces = face_detector.detectMultiScale(gray, 1.3, 5)\n",
    "\n",
    "    for (x, y, w, h) in faces:\n",
    "        cv2.rectangle(img, (x, y), (x+w, y+h), (255,0,0), 2)\n",
    "        count += 1\n",
    "        # Save captured image into the dataset folder\n",
    "        cv2.imwrite('dataset/User.' + str(face_id) + '.' + str(count) + '.jpg', gray[y: y+h, x: x+w])\n",
    "\n",
    "        cv2.imshow('Capturing', img)\n",
    "\n",
    "    k = cv2.waitKey(50) & 0xff\n",
    "    if k == 27:\n",
    "        break\n",
    "    elif count >= 100: # Record only 30 face of individual\n",
    "        break\n",
    "\n",
    "print('\\n [INFO] {} faces of user id \"{}\" have recorded...'.format(count, face_id))\n",
    "cam.release()\n",
    "cv2.destroyAllWindows()"
   ]
  },
  {
   "cell_type": "markdown",
   "metadata": {},
   "source": [
    "## Phase 2: Train the Recognizer\n",
    "We use all faces that store in dataset folder to trainer using Opencv function. The result will be store in trainer folder namely \"trainer.yml\". In this phase we use \"pillow\" package for processing the image.\n",
    "\n",
    "We will use as a recognizer, the LBPH (LOCAL BINARY PATTERNS HISTOGRAMS) Face Recognizer, included on OpenCV package.\n",
    "\n",
    "Note: If Phase 1 have added new data or edit faces of individual this phase 2 must run again to train for new recognizer."
   ]
  },
  {
   "cell_type": "code",
   "execution_count": 20,
   "metadata": {},
   "outputs": [
    {
     "name": "stdout",
     "output_type": "stream",
     "text": [
      "\n",
      " [INFO] Training faces...\n",
      "\n",
      " [INFO] 3 face (s) trained...\n"
     ]
    }
   ],
   "source": [
    "path = 'dataset'\n",
    "\n",
    "recognizer = cv2.face.LBPHFaceRecognizer_create()\n",
    "detector = cv2.CascadeClassifier('haarcascade_frontalface_default.xml')\n",
    "\n",
    "# function to get image and label data\n",
    "def getImageAndLabel(path):\n",
    "\n",
    "    imagePaths = [os.path.join(path, f) for f in os.listdir(path)]\n",
    "    faceSample = []\n",
    "    ids = []\n",
    "\n",
    "    for imagePath in imagePaths:\n",
    "        PIL_img = Image.open(imagePath).convert('L') #convert to grayscale\n",
    "        img_numpy = np.array(PIL_img, 'uint8')\n",
    "\n",
    "        id = int(os.path.split(imagePath)[-1].split('.')[1])\n",
    "        faces = detector.detectMultiScale(img_numpy)\n",
    "\n",
    "        for (x,y,w,h) in faces:\n",
    "            faceSample.append(img_numpy[y:y+h,x:x+w])\n",
    "            ids.append(id)\n",
    "    return faceSample, ids\n",
    "\n",
    "print('\\n [INFO] Training faces...')\n",
    "faces, ids = getImageAndLabel(path)\n",
    "recognizer.train(faces, np.array(ids))\n",
    "\n",
    "# save model to the trainer.yml\n",
    "recognizer.write('trainer/trainer.yml')\n",
    "\n",
    "print('\\n [INFO] {} face (s) trained...'.format(len(np.unique(ids))))"
   ]
  },
  {
   "cell_type": "markdown",
   "metadata": {},
   "source": [
    "## Phase 3: Recognition and Time Tracking\n",
    "We will capture a fresh face on our camera and if those people had their face captured and trained before, our recognizer will make a “prediction” returning its id and an index, shown how confident the recognizer is with this match. In this case we want to see their names instead of ids, so we make an array storing their name respectively.\n",
    "\n",
    "Belong side, we also track the name of people who are on the camera along with date and time. We store these data into a single csv file namely \"tracker.csv\" in the tracker folder."
   ]
  },
  {
   "cell_type": "code",
   "execution_count": 21,
   "metadata": {},
   "outputs": [
    {
     "name": "stdout",
     "output_type": "stream",
     "text": [
      "['Nath']\n"
     ]
    }
   ],
   "source": [
    "recognizer = cv2.face.LBPHFaceRecognizer_create()\n",
    "recognizer.read('trainer/trainer.yml')\n",
    "cascadePath = \"haarcascade_frontalface_default.xml\"\n",
    "faceCascade = cv2.CascadeClassifier(cascadePath)\n",
    "\n",
    "\n",
    "font = cv2.FONT_HERSHEY_SIMPLEX\n",
    "\n",
    "# to record the data to a csv file name \"tracker.csv\"\n",
    "def track(name, confidence): \n",
    "    with open('tracker/tracker.csv', 'a', encoding= 'UTF8') as f:\n",
    "        track_rec = csv.writer(f)\n",
    "        track_rec.writerow([name, datetime.now().strftime('%Y-%m-%d'), datetime.now().strftime('%H:%M'), confidence])\n",
    "\n",
    "        f.close()\n",
    "# to verify the data before record to csv\n",
    "def check_csv(filename) : \n",
    "    df = pd.read_csv(filename)\n",
    "    \n",
    "    today = datetime.now().strftime('%Y-%m-%d')\n",
    "    today_df = df[df['Date'] == today]\n",
    "\n",
    "    name = list(today_df['Name'].unique())\n",
    "\n",
    "    return name\n",
    "\n",
    "#iniciate id counter\n",
    "id = 0\n",
    "\n",
    "# names related to ids: example ==> Marcelo: id=1,  etc\n",
    "names = ['None', 'Nath', 'Chhunheang', 'Nary'] \n",
    "\n",
    "# Initialize and start realtime video capture\n",
    "\n",
    "cam = cv2.VideoCapture(4)\n",
    "cam.set(3, 640) # set video widht 640\n",
    "cam.set(4, 480) # set video height 480\n",
    "\n",
    "# Define min window size to be recognized as a face\n",
    "minW = 0.1*cam.get(3)\n",
    "minH = 0.1*cam.get(4)\n",
    "\n",
    "while True:\n",
    "\n",
    "    ret, img = cam.read()\n",
    "\n",
    "    gray = cv2.cvtColor(img,cv2.COLOR_BGR2GRAY)\n",
    "\n",
    "    faces = faceCascade.detectMultiScale( \n",
    "        gray,\n",
    "        scaleFactor = 1.2,\n",
    "        minNeighbors = 3,\n",
    "        minSize = (int(minW), int(minH)),\n",
    "       )\n",
    "\n",
    "    for(x,y,w,h) in faces:\n",
    "\n",
    "        cv2.rectangle(img, (x - 5,y -5), (x+w+5,y+h+5), (0,255,0), 2)\n",
    "\n",
    "        id, confidence = recognizer.predict(gray[y:y+h,x:x+w])\n",
    "\n",
    "        # Check if confidence is less than 56 ==> \"0\" is perfect match \n",
    "        if (confidence < 60): # 100 checks all faces as it has id in dataset and no one are unknown\n",
    "            id = names[id]\n",
    "            confidence = \"  {0}%\".format(round(100 - confidence))\n",
    "\n",
    "            check_name = check_csv('tracker/tracker.csv')\n",
    "            if id not in check_name: #write person who face the camera and also be known\n",
    "                track(id, confidence)\n",
    "        else:\n",
    "            id = \"unknown\"\n",
    "            confidence = ''\n",
    "        \n",
    "        cv2.putText(img, (str(id) + str(confidence)), (x+5,y-5), font, 1, (255,255,255), 2)\n",
    "        # cv2.putText(img, str(confidence), (x+5,y+h-5), font, 1, (255,255,0), 1)  \n",
    "    \n",
    "    cv2.imshow('camera',img) \n",
    "\n",
    "    k = cv2.waitKey(10) & 0xff # Press 'ESC' for exiting video\n",
    "    if k == 27:\n",
    "        break\n",
    "\n",
    "# Do a bit of cleanup\n",
    "# print(\"\\n [INFO] Exiting Program and cleanup stuff\")\n",
    "print(check_csv('tracker/tracker.csv'))\n",
    "cam.release()\n",
    "cv2.destroyAllWindows()"
   ]
  },
  {
   "cell_type": "markdown",
   "metadata": {},
   "source": [
    "## Record in CSV file"
   ]
  },
  {
   "cell_type": "code",
   "execution_count": 22,
   "metadata": {},
   "outputs": [
    {
     "name": "stdout",
     "output_type": "stream",
     "text": [
      "         Name        Date   Time Accurate\n",
      "0        Nath  2022-07-08  16:11      NaN\n",
      "1  Chhunheang  2022-07-08  16:11      NaN\n",
      "2        Nath  2022-07-09  11:57      NaN\n",
      "3        Nath  2022-07-11  09:26      NaN\n",
      "4  Chhunheang  2022-07-11  13:48      NaN\n",
      "5        Nath  2022-07-14  08:27      51%\n",
      "6        Nath  2022-07-15  14:22      NaN\n",
      "7  Chhunheang  2022-07-15  14:26      50%\n",
      "8        Nary  2022-07-15  15:29      55%\n",
      "9        Nath  2022-07-16  09:00      41%\n"
     ]
    }
   ],
   "source": [
    "df = pd.read_csv('tracker/tracker.csv')\n",
    "\n",
    "print(df)"
   ]
  }
 ],
 "metadata": {
  "kernelspec": {
   "display_name": "Python 3.10.4 64-bit",
   "language": "python",
   "name": "python3"
  },
  "language_info": {
   "codemirror_mode": {
    "name": "ipython",
    "version": 3
   },
   "file_extension": ".py",
   "mimetype": "text/x-python",
   "name": "python",
   "nbconvert_exporter": "python",
   "pygments_lexer": "ipython3",
   "version": "3.10.4"
  },
  "orig_nbformat": 4,
  "vscode": {
   "interpreter": {
    "hash": "916dbcbb3f70747c44a77c7bcd40155683ae19c65e1c03b4aa3499c5328201f1"
   }
  }
 },
 "nbformat": 4,
 "nbformat_minor": 2
}
